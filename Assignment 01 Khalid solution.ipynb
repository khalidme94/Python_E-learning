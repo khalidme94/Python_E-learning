{
 "cells": [
  {
   "cell_type": "markdown",
   "metadata": {},
   "source": [
    "<img src=\"http://cfs22.simplicdn.net/ice9/new_logo.svgz \"/>\n",
    "\n",
    "# Assignment 01: Evaluate the GDP Dataset\n",
    "\n",
    "*The comments/sections provided are your cues to perform the assignment. You don't need to limit yourself to the number of rows/cells provided. You can add additional rows in each section to add more lines of code.*\n",
    "\n",
    "*If at any point in time you need help on solving this assignment, view our demo video to understand the different steps of the code.*\n",
    "\n",
    "**Happy coding!**\n",
    "\n",
    "* * *"
   ]
  },
  {
   "cell_type": "markdown",
   "metadata": {},
   "source": [
    "#### 1: View and add the dataset"
   ]
  },
  {
   "cell_type": "code",
   "execution_count": 1,
   "metadata": {},
   "outputs": [],
   "source": [
    "#Import required library\n",
    "import numpy as np\n",
    "import pandas as pd"
   ]
  },
  {
   "cell_type": "code",
   "execution_count": 2,
   "metadata": {},
   "outputs": [],
   "source": [
    "#Manually add the dataset\n",
    "country = np.array(['Algeria','Angola','Argentina','Australia','Austria','Bahamas','Bangladesh','Belarus','Belgium','Bhutan','Brazil','Bulgaria','Cambodia','Cameroon','Chile','China','Colombia','Cyprus','Denmark','El Salvador','Estonia','Ethiopia','Fiji','Finland','France','Georgia','Ghana','Grenada','Guinea','Haiti','Honduras','Hungary','India','Indonesia','Ireland','Italy','Japan','Kenya', 'South Korea','Liberia','Malaysia','Mexico', 'Morocco','Nepal','New Zealand','Norway','Pakistan', 'Peru','Qatar','Russia','Singapore','South Africa','Spain','Sweden','Switzerland','Thailand', 'United Arab Emirates','United Kingdom','United States','Uruguay','Venezuela','Vietnam','Zimbabwe'])\n",
    "\n",
    "GDP_Per_Country = np.array([2255.225482,629.9553062,11601.63022,25306.82494,27266.40335,19466.99052,588.3691778,2890.345675,24733.62696,1445.760002,4803.398244,2618.876037,590.4521124,665.7982328,7122.938458,2639.54156,3362.4656,15378.16704,30860.12808,2579.115607,6525.541272,229.6769525,2242.689259,27570.4852,23016.84778,1334.646773,402.6953275,6047.200797,394.1156638,385.5793827,1414.072488,5745.981529,837.7464011,1206.991065,27715.52837,18937.24998,39578.07441,478.2194906,16684.21278,279.2204061,5345.213415,6288.25324,1908.304416,274.8728621,14646.42094,40034.85063,672.1547506,3359.517402,36152.66676,3054.727742,33529.83052,3825.093781,15428.32098,33630.24604,39170.41371,2699.123242,21058.43643,28272.40661,37691.02733,9581.05659,5671.912202,757.4009286,347.7456605])"
   ]
  },
  {
   "cell_type": "markdown",
   "metadata": {
    "collapsed": true
   },
   "source": [
    "#### 2: Find and print the name of the country with the highest GDP"
   ]
  },
  {
   "cell_type": "code",
   "execution_count": 3,
   "metadata": {},
   "outputs": [
    {
     "data": {
      "text/plain": [
       "45"
      ]
     },
     "execution_count": 3,
     "metadata": {},
     "output_type": "execute_result"
    }
   ],
   "source": [
    "#Use the argmax() method to find the highest GDP\n",
    "TheMaximumGDP = np.argmax(GDP_Per_Country)\n",
    "TheMaximumGDP"
   ]
  },
  {
   "cell_type": "code",
   "execution_count": 4,
   "metadata": {},
   "outputs": [
    {
     "data": {
      "text/plain": [
       "'Norway'"
      ]
     },
     "execution_count": 4,
     "metadata": {},
     "output_type": "execute_result"
    }
   ],
   "source": [
    "#Print the name of the country\n",
    "TheMaximumGDPCountry = country [TheMaximumGDP]\n",
    "TheMaximumGDPCountry"
   ]
  },
  {
   "cell_type": "markdown",
   "metadata": {},
   "source": [
    "#### 3: Find and print the name of the country with the lowest GDP"
   ]
  },
  {
   "cell_type": "code",
   "execution_count": 5,
   "metadata": {},
   "outputs": [
    {
     "data": {
      "text/plain": [
       "21"
      ]
     },
     "execution_count": 5,
     "metadata": {},
     "output_type": "execute_result"
    }
   ],
   "source": [
    "#Use the argmin() method to find the lowest GDP\n",
    "TheMimimumGDP = np.argmin(GDP_Per_Country)\n",
    "TheMimimumGDP"
   ]
  },
  {
   "cell_type": "code",
   "execution_count": 6,
   "metadata": {},
   "outputs": [
    {
     "data": {
      "text/plain": [
       "'Ethiopia'"
      ]
     },
     "execution_count": 6,
     "metadata": {},
     "output_type": "execute_result"
    }
   ],
   "source": [
    "#Print the name of the country\n",
    "TheMimimumGDPCountry = country [TheMimimumGDP]\n",
    "TheMimimumGDPCountry"
   ]
  },
  {
   "cell_type": "markdown",
   "metadata": {},
   "source": [
    "#### 4: Print out text ('evaluating country') and input value ('country name') iteratively"
   ]
  },
  {
   "cell_type": "code",
   "execution_count": 7,
   "metadata": {},
   "outputs": [
    {
     "name": "stdout",
     "output_type": "stream",
     "text": [
      "evaluating country Algeria\n",
      "evaluating country Angola\n",
      "evaluating country Argentina\n",
      "evaluating country Australia\n",
      "evaluating country Austria\n",
      "evaluating country Bahamas\n",
      "evaluating country Bangladesh\n",
      "evaluating country Belarus\n",
      "evaluating country Belgium\n",
      "evaluating country Bhutan\n",
      "evaluating country Brazil\n",
      "evaluating country Bulgaria\n",
      "evaluating country Cambodia\n",
      "evaluating country Cameroon\n",
      "evaluating country Chile\n",
      "evaluating country China\n",
      "evaluating country Colombia\n",
      "evaluating country Cyprus\n",
      "evaluating country Denmark\n",
      "evaluating country El Salvador\n",
      "evaluating country Estonia\n",
      "evaluating country Ethiopia\n",
      "evaluating country Fiji\n",
      "evaluating country Finland\n",
      "evaluating country France\n",
      "evaluating country Georgia\n",
      "evaluating country Ghana\n",
      "evaluating country Grenada\n",
      "evaluating country Guinea\n",
      "evaluating country Haiti\n",
      "evaluating country Honduras\n",
      "evaluating country Hungary\n",
      "evaluating country India\n",
      "evaluating country Indonesia\n",
      "evaluating country Ireland\n",
      "evaluating country Italy\n",
      "evaluating country Japan\n",
      "evaluating country Kenya\n",
      "evaluating country South Korea\n",
      "evaluating country Liberia\n",
      "evaluating country Malaysia\n",
      "evaluating country Mexico\n",
      "evaluating country Morocco\n",
      "evaluating country Nepal\n",
      "evaluating country New Zealand\n",
      "evaluating country Norway\n",
      "evaluating country Pakistan\n",
      "evaluating country Peru\n",
      "evaluating country Qatar\n",
      "evaluating country Russia\n",
      "evaluating country Singapore\n",
      "evaluating country South Africa\n",
      "evaluating country Spain\n",
      "evaluating country Sweden\n",
      "evaluating country Switzerland\n",
      "evaluating country Thailand\n",
      "evaluating country United Arab Emirates\n",
      "evaluating country United Kingdom\n",
      "evaluating country United States\n",
      "evaluating country Uruguay\n",
      "evaluating country Venezuela\n",
      "evaluating country Vietnam\n",
      "evaluating country Zimbabwe\n"
     ]
    }
   ],
   "source": [
    "#Use a for loop to print the required output\n",
    "for i in country:\n",
    "    print('evaluating country', i )"
   ]
  },
  {
   "cell_type": "markdown",
   "metadata": {},
   "source": [
    "#### 5: Print out the entire list of the countries with their GDPs"
   ]
  },
  {
   "cell_type": "code",
   "execution_count": 8,
   "metadata": {},
   "outputs": [
    {
     "name": "stdout",
     "output_type": "stream",
     "text": [
      "The country is:  Algeria with GPA of:  2255.225482\n",
      "The country is:  Angola with GPA of:  629.9553062\n",
      "The country is:  Argentina with GPA of:  11601.63022\n",
      "The country is:  Australia with GPA of:  25306.82494\n",
      "The country is:  Austria with GPA of:  27266.40335\n",
      "The country is:  Bahamas with GPA of:  19466.99052\n",
      "The country is:  Bangladesh with GPA of:  588.3691778\n",
      "The country is:  Belarus with GPA of:  2890.345675\n",
      "The country is:  Belgium with GPA of:  24733.62696\n",
      "The country is:  Bhutan with GPA of:  1445.760002\n",
      "The country is:  Brazil with GPA of:  4803.398244\n",
      "The country is:  Bulgaria with GPA of:  2618.876037\n",
      "The country is:  Cambodia with GPA of:  590.4521124\n",
      "The country is:  Cameroon with GPA of:  665.7982328\n",
      "The country is:  Chile with GPA of:  7122.938458\n",
      "The country is:  China with GPA of:  2639.54156\n",
      "The country is:  Colombia with GPA of:  3362.4656\n",
      "The country is:  Cyprus with GPA of:  15378.16704\n",
      "The country is:  Denmark with GPA of:  30860.12808\n",
      "The country is:  El Salvador with GPA of:  2579.115607\n",
      "The country is:  Estonia with GPA of:  6525.541272\n",
      "The country is:  Ethiopia with GPA of:  229.6769525\n",
      "The country is:  Fiji with GPA of:  2242.689259\n",
      "The country is:  Finland with GPA of:  27570.4852\n",
      "The country is:  France with GPA of:  23016.84778\n",
      "The country is:  Georgia with GPA of:  1334.646773\n",
      "The country is:  Ghana with GPA of:  402.6953275\n",
      "The country is:  Grenada with GPA of:  6047.200797\n",
      "The country is:  Guinea with GPA of:  394.1156638\n",
      "The country is:  Haiti with GPA of:  385.5793827\n",
      "The country is:  Honduras with GPA of:  1414.072488\n",
      "The country is:  Hungary with GPA of:  5745.981529\n",
      "The country is:  India with GPA of:  837.7464011\n",
      "The country is:  Indonesia with GPA of:  1206.991065\n",
      "The country is:  Ireland with GPA of:  27715.52837\n",
      "The country is:  Italy with GPA of:  18937.24998\n",
      "The country is:  Japan with GPA of:  39578.07441\n",
      "The country is:  Kenya with GPA of:  478.2194906\n",
      "The country is:  South Korea with GPA of:  16684.21278\n",
      "The country is:  Liberia with GPA of:  279.2204061\n",
      "The country is:  Malaysia with GPA of:  5345.213415\n",
      "The country is:  Mexico with GPA of:  6288.25324\n",
      "The country is:  Morocco with GPA of:  1908.304416\n",
      "The country is:  Nepal with GPA of:  274.8728621\n",
      "The country is:  New Zealand with GPA of:  14646.42094\n",
      "The country is:  Norway with GPA of:  40034.85063\n",
      "The country is:  Pakistan with GPA of:  672.1547506\n",
      "The country is:  Peru with GPA of:  3359.517402\n",
      "The country is:  Qatar with GPA of:  36152.66676\n",
      "The country is:  Russia with GPA of:  3054.727742\n",
      "The country is:  Singapore with GPA of:  33529.83052\n",
      "The country is:  South Africa with GPA of:  3825.093781\n",
      "The country is:  Spain with GPA of:  15428.32098\n",
      "The country is:  Sweden with GPA of:  33630.24604\n",
      "The country is:  Switzerland with GPA of:  39170.41371\n",
      "The country is:  Thailand with GPA of:  2699.123242\n",
      "The country is:  United Arab Emirates with GPA of:  21058.43643\n",
      "The country is:  United Kingdom with GPA of:  28272.40661\n",
      "The country is:  United States with GPA of:  37691.02733\n",
      "The country is:  Uruguay with GPA of:  9581.05659\n",
      "The country is:  Venezuela with GPA of:  5671.912202\n",
      "The country is:  Vietnam with GPA of:  757.4009286\n",
      "The country is:  Zimbabwe with GPA of:  347.7456605\n"
     ]
    }
   ],
   "source": [
    "#Use a for loop to print the required list\n",
    "\n",
    "for i in range(len(country)):\n",
    "    \n",
    "    GDP = GDP_Per_Country [i]\n",
    "    TheCountry = country [i]\n",
    "    print (\"The country is: \", TheCountry, \"with GPA of: \", GDP)"
   ]
  },
  {
   "cell_type": "markdown",
   "metadata": {},
   "source": [
    "#### 6: Print the following:\n",
    "1. Highest GPD value\n",
    "2. Lowest GDP value\n",
    "3. Mean GDP value\n",
    "4. Standardized GDP value\n",
    "5. Sum of all the GDPs"
   ]
  },
  {
   "cell_type": "code",
   "execution_count": 9,
   "metadata": {},
   "outputs": [
    {
     "name": "stdout",
     "output_type": "stream",
     "text": [
      "40034.85063\n",
      "229.6769525\n",
      "11289.409271639683\n",
      "12743.828910617945\n",
      "711232.7841133\n"
     ]
    }
   ],
   "source": [
    "print(GDP_Per_Country.max())\n",
    "print(GDP_Per_Country.min())\n",
    "print(GDP_Per_Country.mean())\n",
    "print(GDP_Per_Country.std())\n",
    "print(GDP_Per_Country.sum())"
   ]
  },
  {
   "cell_type": "code",
   "execution_count": null,
   "metadata": {},
   "outputs": [],
   "source": []
  }
 ],
 "metadata": {
  "kernelspec": {
   "display_name": "Python 3",
   "language": "python",
   "name": "python3"
  },
  "language_info": {
   "codemirror_mode": {
    "name": "ipython",
    "version": 3
   },
   "file_extension": ".py",
   "mimetype": "text/x-python",
   "name": "python",
   "nbconvert_exporter": "python",
   "pygments_lexer": "ipython3",
   "version": "3.7.6"
  }
 },
 "nbformat": 4,
 "nbformat_minor": 1
}
